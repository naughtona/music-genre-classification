{
 "cells": [
  {
   "cell_type": "markdown",
   "metadata": {},
   "source": [
    "# Supplementary Exploration into Text Features (TrainSet)"
   ]
  },
  {
   "cell_type": "code",
   "execution_count": 1,
   "metadata": {},
   "outputs": [],
   "source": [
    "# imports\n",
    "import pandas as pd\n",
    "import numpy as np\n",
    "\n",
    "from nltk import word_tokenize\n",
    "from nltk.stem import PorterStemmer\n",
    "\n",
    "from sklearn.feature_extraction.text import TfidfVectorizer\n",
    "from sklearn.feature_selection import mutual_info_classif"
   ]
  },
  {
   "cell_type": "code",
   "execution_count": 2,
   "metadata": {},
   "outputs": [],
   "source": [
    "# train inputs\n",
    "train_features = pd.read_csv(\"train_features.csv\")\n",
    "\n",
    "# isolate text features\n",
    "X_train_text = train_features.iloc[:,1:3].copy(deep=True)\n",
    "\n",
    "# train labels\n",
    "y_train = pd.read_csv(\"train_labels.csv\")"
   ]
  },
  {
   "cell_type": "code",
   "execution_count": 3,
   "metadata": {},
   "outputs": [],
   "source": [
    "# create new columns for folk, metal, and dance and electronica labels\n",
    "y_train['folk'] = 0\n",
    "y_train['metal'] = 0\n",
    "y_train['dance and electronica'] = 0\n",
    "\n",
    "# value is either 0 or 1\n",
    "for i, row in enumerate(y_train.iloc[:,1]):\n",
    "    if row == 'folk':\n",
    "        y_train.loc[i, 'folk'] = 1\n",
    "    elif row == 'metal':\n",
    "        y_train.loc[i, 'metal'] = 1\n",
    "    elif row == 'dance and electronica':\n",
    "        y_train.loc[i, 'dance and electronica'] = 1"
   ]
  },
  {
   "cell_type": "code",
   "execution_count": 4,
   "metadata": {},
   "outputs": [],
   "source": [
    "# apply PorterStemmer to title\n",
    "stemmer = PorterStemmer()\n",
    "X_train_text['title'] = X_train_text['title'].apply(lambda x: \", \".join([stemmer.stem(w) for w in word_tokenize(x)]))\n",
    "\n",
    "# concatenate title and tags\n",
    "X_train_text['textual'] = X_train_text['title'] + \", \" + X_train_text['tags']\n",
    "\n",
    "X_train_text = X_train_text.drop(['title','tags'], axis=1)"
   ]
  },
  {
   "cell_type": "code",
   "execution_count": 5,
   "metadata": {},
   "outputs": [],
   "source": [
    "# apply tfidf vectorization\n",
    "vectorizer = TfidfVectorizer()\n",
    "X_train_text = pd.DataFrame(vectorizer.fit_transform(X_train_text.iloc[:,0]).todense())"
   ]
  },
  {
   "cell_type": "markdown",
   "metadata": {},
   "source": [
    "# Folk"
   ]
  },
  {
   "cell_type": "code",
   "execution_count": 6,
   "metadata": {},
   "outputs": [
    {
     "name": "stdout",
     "output_type": "stream",
     "text": [
      "\n",
      "FOLK -- Feature, Mutual Information statistic:\n",
      "\n",
      "\t1.\tthat, 0.019\n",
      "\n",
      "\t2.\tvas, 0.017\n",
      "\n",
      "\t3.\tand, 0.017\n",
      "\n",
      "\t4.\tketchup, 0.017\n",
      "\n",
      "\t5.\tdo, 0.017\n",
      "\n",
      "\t6.\tthere, 0.016\n",
      "\n",
      "\t7.\tmi, 0.015\n",
      "\n",
      "\t8.\tpero, 0.015\n",
      "\n",
      "\t9.\tstranger, 0.014\n",
      "\n",
      "\t10.\tthe, 0.014\n",
      "\n",
      "\t11.\tpara, 0.014\n",
      "\n",
      "\t12.\twould, 0.014\n",
      "\n",
      "\t13.\tkettl, 0.014\n",
      "\n",
      "\t14.\tcambiar, 0.014\n",
      "\n",
      "\t15.\tcrook, 0.014\n",
      "\n",
      "\t16.\tto, 0.014\n",
      "\n",
      "\t17.\twas, 0.013\n",
      "\n",
      "\t18.\tcuando, 0.013\n",
      "\n",
      "\t19.\tcoz, 0.013\n",
      "\n",
      "\t20.\tlost, 0.013\n"
     ]
    }
   ],
   "source": [
    "# find top 20 words with highest MI with respect to the folk genre\n",
    "scores = mutual_info_classif(X_train_text, y_train.loc[:,'folk'], random_state=42)\n",
    "\n",
    "# capture words/features\n",
    "features = sorted(vectorizer.vocabulary_, key=vectorizer.vocabulary_.get)\n",
    "\n",
    "# sort list (descending MI order) and replace value with its index\n",
    "sorted_scores = np.argsort(scores)[::-1]\n",
    "\n",
    "# get top 20\n",
    "top20_scores = sorted_scores[:20]\n",
    "top20_features = [features[i] for i in top20_scores]\n",
    "\n",
    "print(\"\\nFOLK -- Feature, Mutual Information statistic:\")\n",
    "for i, ind in enumerate(top20_scores):\n",
    "    print(f\"\\n\\t{i+1}.\\t{features[ind]}, {round(scores[ind],3)}\")"
   ]
  },
  {
   "cell_type": "markdown",
   "metadata": {},
   "source": [
    "# Metal"
   ]
  },
  {
   "cell_type": "code",
   "execution_count": 7,
   "metadata": {},
   "outputs": [
    {
     "name": "stdout",
     "output_type": "stream",
     "text": [
      "\n",
      "METAL -- Feature, Mutual Information statistic:\n",
      "\n",
      "\t1.\tknow, 0.023\n",
      "\n",
      "\t2.\toh, 0.023\n",
      "\n",
      "\t3.\tof, 0.023\n",
      "\n",
      "\t4.\tblood, 0.023\n",
      "\n",
      "\t5.\tdo, 0.021\n",
      "\n",
      "\t6.\tlove, 0.021\n",
      "\n",
      "\t7.\tsay, 0.019\n",
      "\n",
      "\t8.\tetern, 0.018\n",
      "\n",
      "\t9.\ten, 0.017\n",
      "\n",
      "\t10.\tfuck, 0.017\n",
      "\n",
      "\t11.\tlife, 0.017\n",
      "\n",
      "\t12.\tgot, 0.017\n",
      "\n",
      "\t13.\tdead, 0.017\n",
      "\n",
      "\t14.\thate, 0.017\n",
      "\n",
      "\t15.\tthat, 0.016\n",
      "\n",
      "\t16.\tdeath, 0.016\n",
      "\n",
      "\t17.\tif, 0.016\n",
      "\n",
      "\t18.\tkill, 0.015\n",
      "\n",
      "\t19.\tthe, 0.015\n",
      "\n",
      "\t20.\tis, 0.015\n"
     ]
    }
   ],
   "source": [
    "# find top 20 words with highest MI with respect to the metal genre\n",
    "scores = mutual_info_classif(X_train_text, y_train.loc[:,'metal'], random_state=42)\n",
    "\n",
    "# capture words/features\n",
    "features = sorted(vectorizer.vocabulary_, key=vectorizer.vocabulary_.get)\n",
    "\n",
    "# sort list (descending MI order) and replace value with its index\n",
    "sorted_scores = np.argsort(scores)[::-1]\n",
    "\n",
    "# get top 20\n",
    "top20_scores = sorted_scores[:20]\n",
    "top20_features = [features[i] for i in top20_scores]\n",
    "\n",
    "print(\"\\nMETAL -- Feature, Mutual Information statistic:\")\n",
    "for i, ind in enumerate(top20_scores):\n",
    "    print(f\"\\n\\t{i+1}.\\t{features[ind]}, {round(scores[ind],3)}\")"
   ]
  },
  {
   "cell_type": "markdown",
   "metadata": {},
   "source": [
    "# Dance and Electronica"
   ]
  },
  {
   "cell_type": "code",
   "execution_count": 8,
   "metadata": {},
   "outputs": [
    {
     "name": "stdout",
     "output_type": "stream",
     "text": [
      "\n",
      "DANCE AND ELECTRONICA -- Feature, Mutual Information statistic:\n",
      "\n",
      "\t1.\tviel, 0.011\n",
      "\n",
      "\t2.\tblur, 0.01\n",
      "\n",
      "\t3.\tto, 0.009\n",
      "\n",
      "\t4.\tneue, 0.009\n",
      "\n",
      "\t5.\ttun, 0.009\n",
      "\n",
      "\t6.\trihanna, 0.008\n",
      "\n",
      "\t7.\textraño, 0.008\n",
      "\n",
      "\t8.\tweed, 0.008\n",
      "\n",
      "\t9.\tzimbabw, 0.008\n",
      "\n",
      "\t10.\twine, 0.008\n",
      "\n",
      "\t11.\tyou, 0.008\n",
      "\n",
      "\t12.\tpharoah, 0.008\n",
      "\n",
      "\t13.\tfill, 0.008\n",
      "\n",
      "\t14.\tduppi, 0.008\n",
      "\n",
      "\t15.\tid, 0.008\n",
      "\n",
      "\t16.\tere, 0.008\n",
      "\n",
      "\t17.\ttheir, 0.008\n",
      "\n",
      "\t18.\tspinach, 0.008\n",
      "\n",
      "\t19.\twit, 0.008\n",
      "\n",
      "\t20.\tventana, 0.007\n"
     ]
    }
   ],
   "source": [
    "# find top 20 words with highest MI with respect to the dance and electronica genre\n",
    "scores = mutual_info_classif(X_train_text, y_train.loc[:,'dance and electronica'], random_state=42)\n",
    "\n",
    "# capture words/features\n",
    "features = sorted(vectorizer.vocabulary_, key=vectorizer.vocabulary_.get)\n",
    "\n",
    "# sort list (descending MI order) and replace value with its index\n",
    "sorted_scores = np.argsort(scores)[::-1]\n",
    "\n",
    "# get top 20\n",
    "top20_scores = sorted_scores[:20]\n",
    "top20_features = [features[i] for i in top20_scores]\n",
    "\n",
    "print(\"\\nDANCE AND ELECTRONICA -- Feature, Mutual Information statistic:\")\n",
    "for i, ind in enumerate(top20_scores):\n",
    "    print(f\"\\n\\t{i+1}.\\t{features[ind]}, {round(scores[ind],3)}\")"
   ]
  }
 ],
 "metadata": {
  "kernelspec": {
   "display_name": "Python 3.6.9 64-bit",
   "language": "python",
   "name": "python36964bit648a95210646462f885897792df83bea"
  },
  "language_info": {
   "codemirror_mode": {
    "name": "ipython",
    "version": 3
   },
   "file_extension": ".py",
   "mimetype": "text/x-python",
   "name": "python",
   "nbconvert_exporter": "python",
   "pygments_lexer": "ipython3",
   "version": "3.6.9"
  }
 },
 "nbformat": 4,
 "nbformat_minor": 4
}
